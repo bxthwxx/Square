{
 "cells": [
  {
   "cell_type": "code",
   "execution_count": 1,
   "id": "1c20b6cb-31ba-4bb8-94bb-542368c06ff1",
   "metadata": {},
   "outputs": [],
   "source": [
    "# generating spiral square\n",
    "# p: number of layers to the square\n",
    "square = [[1]]\n",
    "for p in range(2, 101):\n",
    "    layer = []\n",
    "    for i in range((2 * (p - 1) - 1) ** 2 + 1, (2*p - 1) ** 2 + 1):\n",
    "        layer.append(i)\n",
    "    #print(layer)\n",
    "    square.append(layer)"
   ]
  },
  {
   "cell_type": "code",
   "execution_count": 2,
   "id": "01c0e60e-3f80-4cff-8995-38768071b9f5",
   "metadata": {},
   "outputs": [
    {
     "name": "stdout",
     "output_type": "stream",
     "text": [
      "True\n"
     ]
    }
   ],
   "source": [
    "# Checking the sequence for R up to the 50 terms\n",
    "\n",
    "# R\n",
    "sR = []\n",
    "sR2 = [1]\n",
    "# generating sequence using 4n^{2} - 3n + 1\n",
    "for i in range(0, 50):\n",
    "    sR.append(4 * i ** 2 - 3 * i + 1)\n",
    "#print(sR)\n",
    "\n",
    "#generating sequence using square\n",
    "\n",
    "for i in range(1, 50):\n",
    "    sR2.append(square[i][i-1]) # i - 1 by observing the positions on the square\n",
    "#print(sR2)\n",
    "\n",
    "if sR == sR2:\n",
    "    print(\"True\")"
   ]
  },
  {
   "cell_type": "code",
   "execution_count": 3,
   "id": "47e19010-72ba-4fe6-8ebb-e66f82b1a8af",
   "metadata": {},
   "outputs": [
    {
     "name": "stdout",
     "output_type": "stream",
     "text": [
      "True\n",
      "True\n",
      "True\n",
      "True\n",
      "True\n",
      "True\n",
      "True\n",
      "True\n"
     ]
    }
   ],
   "source": [
    "# Creating a function to make this more efficient\n",
    "n = 10000\n",
    "\n",
    "def checkingSequence(minusterm):\n",
    "    s = [] # will be array of terms generated from calculated sequence\n",
    "    ss = [1] # willl be array of terms generated from square in same direction\n",
    "    \n",
    "    # generating sequence\n",
    "    for i in range(0, n):\n",
    "        s.append((2 * i + 1) ** 2 - minusterm * i)\n",
    "    \n",
    "    for i in range(1, n):\n",
    "        ss.append(square[i][(8 - minusterm) * i - 1]) # Generates the position in the square\n",
    "    \n",
    "    if s == ss:\n",
    "        return True\n",
    "\n",
    "square = [[1]]\n",
    "for p in range(2, n + 1):\n",
    "    layer = []\n",
    "    for i in range((2 * (p - 1) - 1) ** 2 + 1, (2*p - 1) ** 2 + 1):\n",
    "        layer.append(i)\n",
    "    square.append(layer)\n",
    "\n",
    "print(checkingSequence(0)) # corresponds to RD\n",
    "print(checkingSequence(1)) # corresponds to D\n",
    "print(checkingSequence(2)) # corresponds to LD\n",
    "print(checkingSequence(3)) # corresponds to L\n",
    "print(checkingSequence(4)) # corresponds to LU\n",
    "print(checkingSequence(5)) # corresponds to U\n",
    "print(checkingSequence(6)) # corresponds to RU\n",
    "print(checkingSequence(7)) # corresponds to R"
   ]
  },
  {
   "cell_type": "code",
   "execution_count": null,
   "id": "7a4823b1-16ad-4a25-bfbd-cb28e3270c87",
   "metadata": {},
   "outputs": [],
   "source": []
  }
 ],
 "metadata": {
  "kernelspec": {
   "display_name": "Python 3 (ipykernel)",
   "language": "python",
   "name": "python3"
  },
  "language_info": {
   "codemirror_mode": {
    "name": "ipython",
    "version": 3
   },
   "file_extension": ".py",
   "mimetype": "text/x-python",
   "name": "python",
   "nbconvert_exporter": "python",
   "pygments_lexer": "ipython3",
   "version": "3.9.7"
  }
 },
 "nbformat": 4,
 "nbformat_minor": 5
}
